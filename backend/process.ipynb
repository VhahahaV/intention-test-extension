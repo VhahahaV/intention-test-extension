{
 "cells": [
  {
   "cell_type": "code",
   "execution_count": 3,
   "metadata": {},
   "outputs": [],
   "source": [
    "import json\n",
    "\n",
    "fp1 = './Prompt-Ours.json'\n",
    "fp2 = './log.txt'\n",
    "with open(fp1, 'r') as f:\n",
    "    data = json.load(f)\n",
    "\n",
    "data = data[0]\n",
    "with open(fp2, 'w', encoding = 'utf8') as f:\n",
    "    for m in data['messages']:\n",
    "        f.write(f\"[{m['role']}]\\n\")\n",
    "        f.write(m['content'] + '\\n') "
   ]
  }
 ],
 "metadata": {
  "kernelspec": {
   "display_name": "Python 3",
   "language": "python",
   "name": "python3"
  },
  "language_info": {
   "codemirror_mode": {
    "name": "ipython",
    "version": 3
   },
   "file_extension": ".py",
   "mimetype": "text/x-python",
   "name": "python",
   "nbconvert_exporter": "python",
   "pygments_lexer": "ipython3",
   "version": "3.10.11"
  }
 },
 "nbformat": 4,
 "nbformat_minor": 2
}
